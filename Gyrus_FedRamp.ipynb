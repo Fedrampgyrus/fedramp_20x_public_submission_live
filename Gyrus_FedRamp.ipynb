{
  "nbformat": 4,
  "nbformat_minor": 0,
  "metadata": {
    "colab": {
      "provenance": [],
      "authorship_tag": "ABX9TyPWOsmo9+cXDziBvEgImwv1"
    },
    "kernelspec": {
      "name": "python3",
      "display_name": "Python 3"
    },
    "language_info": {
      "name": "python"
    }
  },
  "cells": [
    {
      "cell_type": "code",
      "execution_count": null,
      "metadata": {
        "id": "beVhm2N3b3c0"
      },
      "outputs": [],
      "source": []
    }
  ]
}